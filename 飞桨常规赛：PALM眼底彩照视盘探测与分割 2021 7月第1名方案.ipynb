{
 "cells": [
  {
   "cell_type": "markdown",
   "metadata": {
    "collapsed": false
   },
   "source": [
    "### 数据集介绍\n",
    "本次常规赛提供的金标准由中山大学中山眼科中心的7名眼科医生手工进行视盘像素级标注，之后由另一位高级专家将它们融合为最终的标注结果。存储为BMP图像，与对应的眼底图像大小相同，标签为0代表视盘（黑色区域）；标签为255代表其他（白色区域）。\n",
    "\n",
    "训练数据集\n",
    "\n",
    "文件名称：Train\n",
    "Train文件夹里有fundus_images文件夹和Disc_Masks文件夹。\n",
    "\n",
    "fundus_images文件夹内包含800张眼底彩照，分辨率为1444×1444，或2124×2056。命名形如H0001.jpg、N0001.jpg、P0001.jpg和V0001.jpg。\n",
    "\n",
    "Disc_Masks文件夹内包含fundus_images里眼底彩照的视盘分割金标准，大小与对应的眼底彩照一致。命名前缀和对应的fundus_images文件夹里的图像命名一致，后缀为bmp。\n",
    "\n",
    "测试数据集\n",
    "\n",
    "文件名称：PALM-Testing400-Images\n",
    "\n",
    "包含400张眼底彩照，命名形如T0001.jpg。"
   ]
  },
  {
   "cell_type": "markdown",
   "metadata": {
    "collapsed": false
   },
   "source": [
    "### 比赛思路\n",
    "参考五月第一名代码，后面更改使用其它模型后没有超过第一名的分数，所以后面再次提交的分数均还是五月份第一名的代码所得分数\n",
    "\n",
    "使用DeepLabv3 分数在0.93（参数与使用Unet时基本相同）\n",
    "\n",
    "使用DeepLabv3P 分数在0.94（参数与使用DeepLabv3相同）\n",
    "\n",
    "![](https://ai-studio-static-online.cdn.bcebos.com/e4c5bdd28975488e9400aa8842f6513167982f1989884b1b85c2575b4123c007)\n",
    "\n",
    "\n",
    "\n",
    "\n",
    "下展示的是\n",
    "\n",
    "使用Unet进行分割。对预测结果处理，如出现多个不连通区域，则只保留最大的面积那块。"
   ]
  },
  {
   "cell_type": "code",
   "execution_count": 1,
   "metadata": {
    "collapsed": false
   },
   "outputs": [
    {
     "name": "stdout",
     "output_type": "stream",
     "text": [
      "  inflating: /home/aistudio/work/seg/test/T0400.jpg  \r"
     ]
    }
   ],
   "source": [
    "#解压数据\r\n",
    "!unzip -o data/data86770/seg.zip -d /home/aistudio/work"
   ]
  },
  {
   "cell_type": "code",
   "execution_count": 1,
   "metadata": {
    "collapsed": false
   },
   "outputs": [],
   "source": [
    "!git clone https://gitee.com/PaddlePaddle/PaddleSeg"
   ]
  },
  {
   "cell_type": "markdown",
   "metadata": {
    "collapsed": false
   },
   "source": [
    "## 生成train.txt 和val.txt"
   ]
  },
  {
   "cell_type": "code",
   "execution_count": 2,
   "metadata": {
    "collapsed": false
   },
   "outputs": [],
   "source": [
    "import random\r\n",
    "import os\r\n",
    "random.seed(2020)\r\n",
    "mask_dir  = '/home/aistudio/work/seg/Train/masks'\r\n",
    "img_dir = '/home/aistudio/work/seg/Train/fundus_image'\r\n",
    "path_list = list()\r\n",
    "for img in os.listdir(img_dir):\r\n",
    "    img_path = os.path.join(img_dir,img)\r\n",
    "    mask_path = os.path.join(mask_dir,img.replace('jpg', 'png'))\r\n",
    "    path_list.append((img_path, mask_path))\r\n",
    "random.shuffle(path_list)\r\n",
    "ratio = 0.8\r\n",
    "train_f = open('/home/aistudio/work/seg/Train/train.txt','w') \r\n",
    "val_f = open('/home/aistudio/work/seg/Train/val.txt' ,'w')\r\n",
    "\r\n",
    "for i ,content in enumerate(path_list):\r\n",
    "    img, mask = content\r\n",
    "    text = img + ' ' + mask + '\\n'\r\n",
    "    if i < len(path_list) * ratio:\r\n",
    "        train_f.write(text)\r\n",
    "    else:\r\n",
    "        val_f.write(text)\r\n",
    "train_f.close()\r\n",
    "val_f.close()"
   ]
  },
  {
   "cell_type": "markdown",
   "metadata": {
    "collapsed": false
   },
   "source": [
    "### 配置文件如下\n",
    "```\n",
    "batch_size: 8 #0.94969\n",
    "iters: 4000\n",
    "\n",
    "train_dataset:\n",
    "  type: Dataset\n",
    "  dataset_root: /home/aistudio/work/seg/Train/\n",
    "  train_path: /home/aistudio/work/seg/Train/train.txt\n",
    "  num_classes: 2\n",
    "  transforms:\n",
    "    - type: Resize\n",
    "      target_size: [512, 512]\n",
    "    # - type: RandomRotation\n",
    "    #   max_rotation: 15\n",
    "    - type: RandomHorizontalFlip\n",
    "    - type: RandomDistort\n",
    "      brightness_range: 0.4\n",
    "      contrast_range: 0.4\n",
    "      saturation_range: 0.4\n",
    "    - type: Normalize\n",
    "  mode: train\n",
    "\n",
    "val_dataset:\n",
    "  type: Dataset\n",
    "  dataset_root: /home/aistudio/work/seg/Train/\n",
    "  val_path: /home/aistudio/work/seg/Train/val.txt\n",
    "  num_classes: 2\n",
    "  transforms:\n",
    "    - type: Resize\n",
    "      target_size: [512, 512]\n",
    "    - type: Normalize\n",
    "  mode: val\n",
    "\n",
    "\n",
    "optimizer:\n",
    "  type: sgd\n",
    "  momentum: 0.9\n",
    "  weight_decay: 4.0e-5\n",
    "\n",
    "learning_rate:\n",
    "  value: 0.00125\n",
    "  decay:\n",
    "    type: poly\n",
    "    power: 0.9\n",
    "    end_lr: 0.0\n",
    "\n",
    "loss:\n",
    "  types:\n",
    "    - type: MixedLoss\n",
    "      losses:\n",
    "        - type: CrossEntropyLoss\n",
    "        - type: DiceLoss\n",
    "      coef: [0.7, 0.3]\n",
    "  coef: [1]\n",
    "\n",
    "model:\n",
    "  type: UNet\n",
    "  num_classes: 2\n",
    "  use_deconv: False\n",
    "  pretrained: /home/aistudio/unetmodel.pdparams\n",
    "\n",
    "```"
   ]
  },
  {
   "cell_type": "markdown",
   "metadata": {
    "collapsed": false
   },
   "source": [
    "### 开始训练"
   ]
  },
  {
   "cell_type": "code",
   "execution_count": 3,
   "metadata": {
    "collapsed": false
   },
   "outputs": [
    {
     "name": "stdout",
     "output_type": "stream",
     "text": [
      "Total Flops: 162692333568     Total Params: 39120482\r"
     ]
    }
   ],
   "source": [
    "%cd /home/aistudio/PaddleSeg\r\n",
    "!python train.py \\\r\n",
    "       --config configs/unet_PALM.yml \\\r\n",
    "       --do_eval \\\r\n",
    "       --use_vdl \\\r\n",
    "       --save_interval 100 \\\r\n",
    "       --save_dir output_unet_PALMoutput"
   ]
  },
  {
   "cell_type": "markdown",
   "metadata": {
    "collapsed": false
   },
   "source": [
    "### 验证"
   ]
  },
  {
   "cell_type": "code",
   "execution_count": 4,
   "metadata": {
    "collapsed": false
   },
   "outputs": [
    {
     "name": "stdout",
     "output_type": "stream",
     "text": [
      "[0.9989 0.9423]\r"
     ]
    }
   ],
   "source": [
    "%cd /home/aistudio/PaddleSeg\r\n",
    "!python val.py --config configs/unet_PALM.yml  --model_path output_unet_PALMoutput/best_model/model.pdparams "
   ]
  },
  {
   "cell_type": "markdown",
   "metadata": {
    "collapsed": false
   },
   "source": [
    "### 预测"
   ]
  },
  {
   "cell_type": "code",
   "execution_count": 5,
   "metadata": {
    "collapsed": false
   },
   "outputs": [
    {
     "name": "stdout",
     "output_type": "stream",
     "text": [
      "400/400 [==============================] - 120s 300ms/st\r"
     ]
    }
   ],
   "source": [
    "%cd /home/aistudio/PaddleSeg\r\n",
    "!python predict.py \\\r\n",
    "       --config configs/unet_PALM.yml \\\r\n",
    "       --model_path output_unet_PALMoutput/best_model/model.pdparams \\\r\n",
    "       --image_path /home/aistudio/work/seg/test \\\r\n",
    "       --save_dir output_unet_PALMoutput/result"
   ]
  },
  {
   "cell_type": "markdown",
   "metadata": {
    "collapsed": false
   },
   "source": [
    "### 生成结果"
   ]
  },
  {
   "cell_type": "code",
   "execution_count": 6,
   "metadata": {
    "collapsed": false
   },
   "outputs": [],
   "source": [
    "import os \r\n",
    "import cv2\r\n",
    "result_path = '/home/aistudio/PaddleSeg/output_unet_PALMoutput/result/pseudo_color_prediction'\r\n",
    "dist_path = '/home/aistudio/Disc_Segmentation'\r\n",
    "for img_name in os.listdir(result_path):\r\n",
    "    img_path = os.path.join(result_path, img_name)\r\n",
    "    img = cv2.imread(img_path)\r\n",
    "    g  = img[:,:,1]\r\n",
    "    ret, result = cv2.threshold(g, 127,255, cv2.THRESH_BINARY_INV)\r\n",
    "    cv2.imwrite(os.path.join(dist_path,img_name), result)\r\n"
   ]
  },
  {
   "cell_type": "markdown",
   "metadata": {
    "collapsed": false
   },
   "source": [
    "### 假如预测中出现多个不连通的区域，只保留最大的区域"
   ]
  },
  {
   "cell_type": "code",
   "execution_count": 7,
   "metadata": {
    "collapsed": false
   },
   "outputs": [],
   "source": [
    "import os \r\n",
    "import cv2\r\n",
    "import matplotlib.pyplot as plt\r\n",
    "def cnt_area(cnt):\r\n",
    "    area = cv2.contourArea(cnt)\r\n",
    "    return area\r\n",
    "\r\n",
    "result_path = '/home/aistudio/PaddleSeg/output_unet_PALMoutput/result/pseudo_color_prediction'\r\n",
    "dist_path = '/home/aistudio/Disc_Segmentation'\r\n",
    "for img_name in os.listdir(result_path):\r\n",
    "    img_path = os.path.join(result_path, img_name)\r\n",
    "    img = cv2.imread(img_path)\r\n",
    "    g  = img[:,:,1]\r\n",
    "    ret, threshold = cv2.threshold(g, 127,255, cv2.THRESH_BINARY)\r\n",
    "\r\n",
    "\r\n",
    "    contours, hierarch = cv2.findContours(threshold, cv2.RETR_LIST, cv2.CHAIN_APPROX_NONE)\r\n",
    "    contours.sort(key=cnt_area, reverse=True)\r\n",
    "    if len(contours) > 1:\r\n",
    "        for i in range(1,len(contours)):\r\n",
    "            cv2.drawContours(threshold, [contours[i]], 0, 0, -1)\r\n",
    "    _,result = cv2.threshold(threshold, 127, 255, cv2.THRESH_BINARY_INV)\r\n",
    "    cv2.imwrite(os.path.join(dist_path, img_name), result)\r\n"
   ]
  },
  {
   "cell_type": "code",
   "execution_count": 8,
   "metadata": {
    "collapsed": false
   },
   "outputs": [
    {
     "name": "stdout",
     "output_type": "stream",
     "text": [
      "/home/aistudio/Disc_Segmentation\n"
     ]
    }
   ],
   "source": [
    "%cd /home/aistudio/Disc_Segmentation\r\n",
    "!zip -r -oq /home/aistudio/Disc_Segmentation.zip ./"
   ]
  },
  {
   "cell_type": "markdown",
   "metadata": {
    "collapsed": false
   },
   "source": [
    "### 总结\n",
    "模型构建思路及调优过程（可具体包括：思路框架图、思路步骤详述、模型应用+调优过程）\n",
    "\n",
    "【模型】Unet\n",
    "\n",
    "【数据增强】图片大小512x512，水平翻转，对比度随机改变等数据增强\n",
    "\n",
    "【对预测结果进行处理】假如预测中出现多个不连通的区域，只保留最大的区域\n",
    "【提高】在原来使用Unet的基础上，尝试了Deeplab和Deeplab+ 网络，可能因为参数设置问题（经过多次尝试），均没有得到更高分数\n",
    "\t\t后在原来基础上在batch_size: 8  iters: 4000  得分0.94969 限于时间原因没有增加iters  如果增加iters 可能超过原来的分数"
   ]
  }
 ],
 "metadata": {
  "kernelspec": {
   "display_name": "PaddlePaddle 2.0.0b0 (Python 3.5)",
   "language": "python",
   "name": "py35-paddle1.2.0"
  },
  "language_info": {
   "codemirror_mode": {
    "name": "ipython",
    "version": 3
   },
   "file_extension": ".py",
   "mimetype": "text/x-python",
   "name": "python",
   "nbconvert_exporter": "python",
   "pygments_lexer": "ipython3",
   "version": "3.7.4"
  }
 },
 "nbformat": 4,
 "nbformat_minor": 1
}
